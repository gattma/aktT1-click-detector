{
 "cells": [
  {
   "cell_type": "code",
   "execution_count": 1,
   "metadata": {
    "collapsed": true,
    "pycharm": {
     "is_executing": false
    }
   },
   "outputs": [],
   "source": [
    "from skimage.measure import compare_ssim\n",
    "import cv2\n",
    "import numpy as np\n",
    "\n",
    "# Dem Netzwerk werden nicht die gesamten Frames zum trainieren gegeben, sondern nur die Regionen in denen sich etwas\n",
    "# geändert hat.\n",
    "def apply_region_filter(before, after):\n",
    "    before_gray = cv2.cvtColor(before, cv2.COLOR_BGR2GRAY)\n",
    "    after_gray = cv2.cvtColor(after, cv2.COLOR_BGR2GRAY)\n",
    "    (score, diff) = compare_ssim(before_gray, after_gray, full=True)\n",
    "    diff = (diff * 255).astype(\"uint8\")\n",
    "    thresh = cv2.threshold(diff, 0, 255, cv2.THRESH_BINARY_INV | cv2.THRESH_OTSU)[1]\n",
    "\n",
    "    contours = cv2.findContours(thresh.copy(), cv2.RETR_EXTERNAL, cv2.CHAIN_APPROX_SIMPLE)\n",
    "    contours = contours[0] if len(contours) == 2 else contours[1]\n",
    "\n",
    "    before_region = np.zeros(before.shape, np.uint8)\n",
    "    after_region = np.zeros(after.shape, np.uint8)\n",
    "\n",
    "    for c in contours:\n",
    "        area = cv2.contourArea(c)\n",
    "        if area > 40:\n",
    "            x, y, w, h = cv2.boundingRect(c)\n",
    "            before_region[y:y + h, x:x + w] = before[y:y + h, x:x + w]\n",
    "            after_region[y:y + h, x:x + w] = after[y:y + h, x:x + w]\n",
    "\n",
    "    return before_region, after_region"
   ]
  },
  {
   "cell_type": "code",
   "execution_count": 2,
   "outputs": [],
   "source": [
    "# Es werden 2 \"Inputs\" benötigt => eigene Implementierung eines DataGenerators für Keras\n",
    "def generate_generator_multiple(generator, dir1, dir2, batch_size, img_height, img_width):\n",
    "    genX1 = generator.flow_from_directory(dir1,\n",
    "                                          target_size=(img_height, img_width),\n",
    "                                          class_mode='categorical',\n",
    "                                          batch_size=batch_size,\n",
    "                                          shuffle=True,\n",
    "                                          seed=666)\n",
    "\n",
    "    genX2 = generator.flow_from_directory(dir2,\n",
    "                                          target_size=(img_height, img_width),\n",
    "                                          class_mode='categorical',\n",
    "                                          batch_size=batch_size,\n",
    "                                          shuffle=True,\n",
    "                                          seed=666)\n",
    "\n",
    "    while True:\n",
    "        X1i = genX1.next()\n",
    "        X2i = genX2.next()\n",
    "\n",
    "        before = np.reshape(X1i[0], (584, 480, 3))\n",
    "        after = np.reshape(X2i[0], (584, 480, 3))\n",
    "        before, after = apply_region_filter(before.copy(), after.copy())\n",
    "\n",
    "        before = np.asarray(before)\n",
    "        before = before.astype('float32')\n",
    "        before /= 255.0\n",
    "\n",
    "        after = np.asarray(before)\n",
    "        after = after.astype('float32')\n",
    "        after /= 255.0\n",
    "\n",
    "        before = np.reshape(before, (1, 584, 480, 3))\n",
    "        after = np.reshape(after, (1, 584, 480, 3))\n",
    "        yield [before, after], X2i[1]\n",
    "        "
   ],
   "metadata": {
    "collapsed": false,
    "pycharm": {
     "name": "#%% \n",
     "is_executing": false
    }
   }
  },
  {
   "cell_type": "code",
   "execution_count": 3,
   "outputs": [],
   "source": [
    "from tensorflow.keras import layers\n",
    "from tensorflow.keras import optimizers\n",
    "from tensorflow.keras.models import Model\n",
    "from tensorflow.keras.preprocessing.image import ImageDataGenerator\n",
    "import tensorflow as tf\n",
    "\n",
    "in_channels = 3\n",
    "img_height, img_width = 584, 480  # original\n",
    "num_classes = 2  # click or no click\n",
    "batch_size = 1\n",
    "epochs = 1\n",
    "\n",
    "train_dir_1 = \"dataset/train/before\"\n",
    "train_dir_2 = \"dataset/train/after\"\n",
    "\n",
    "test_dir_1 = \"dataset/test/before\"\n",
    "test_dir_2 = \"dataset/test/after\"\n",
    "\n",
    "input_shape = (img_height, img_width, in_channels)\n",
    "\n",
    "generator = ImageDataGenerator(rescale=1, #1./255,\n",
    "                               rotation_range=0,\n",
    "                               width_shift_range=0,\n",
    "                               height_shift_range=0,\n",
    "                               shear_range=0,\n",
    "                               zoom_range=0,\n",
    "                               horizontal_flip=False,\n",
    "                               vertical_flip=False,\n",
    "                               #fill_mode='nearest'\n",
    "                               )\n",
    "\n",
    "inputgenerator = generate_generator_multiple(generator=generator,\n",
    "                                             dir1=train_dir_1,\n",
    "                                             dir2=train_dir_2,\n",
    "                                             batch_size=batch_size,\n",
    "                                             img_height=img_height,\n",
    "                                             img_width=img_width)\n",
    "\n",
    "testgenerator = generate_generator_multiple(generator,\n",
    "                                            dir1=test_dir_1,\n",
    "                                            dir2=test_dir_2,\n",
    "                                            batch_size=batch_size,\n",
    "                                            img_height=img_height,\n",
    "                                            img_width=img_width)"
   ],
   "metadata": {
    "collapsed": false,
    "pycharm": {
     "name": "#%% \n",
     "is_executing": false
    }
   }
  },
  {
   "cell_type": "code",
   "execution_count": 4,
   "outputs": [],
   "source": [
    "# Erzeugen der gewünschten Architektur (auf Basis von https://xin-xia.github.io/publication/icse193.pdf)\n",
    "before_input = layers.Input(shape=input_shape)\n",
    "base_model_before = tf.keras.applications.inception_resnet_v2.InceptionResNetV2(\n",
    "    include_top=False,\n",
    "    pooling='max',\n",
    "    input_shape=input_shape,\n",
    "    weights='imagenet',\n",
    "    input_tensor=before_input\n",
    ")\n",
    "\n",
    "after_input = layers.Input(shape=input_shape)\n",
    "base_model_after = tf.keras.applications.inception_resnet_v2.InceptionResNetV2(\n",
    "    include_top=False,\n",
    "    pooling='max',\n",
    "    input_shape=input_shape,\n",
    "    weights='imagenet',\n",
    "    input_tensor=after_input\n",
    ")\n",
    "\n",
    "for layer in base_model_after.layers:\n",
    "    layer._name = layer.name + str(\"_2\")\n",
    "\n",
    "conv = layers.concatenate([base_model_before.output, base_model_after.output])\n",
    "conv = layers.Flatten()(conv)\n",
    "\n",
    "dense = layers.Dense(512)(conv)\n",
    "dense = layers.LeakyReLU(alpha=0.1)(dense)\n",
    "dense = layers.Dropout(0.5)(dense)\n",
    "\n",
    "output = layers.Dense(num_classes, activation='softmax')(dense)\n",
    "\n",
    "model = Model(inputs=[before_input, after_input], outputs=[output])"
   ],
   "metadata": {
    "collapsed": false,
    "pycharm": {
     "name": "#%%\n",
     "is_executing": false
    }
   }
  },
  {
   "cell_type": "code",
   "execution_count": null,
   "outputs": [
    {
     "name": "stdout",
     "text": [
      "Found 405 images belonging to 2 classes.\nFound 405 images belonging to 2 classes.\n",
      "\r  1/404 [..............................] - ETA: 26:13 - loss: 1.1921e-07 - categorical_accuracy: 1.0000",
      "\b\b\b\b\b\b\b\b\b\b\b\b\b\b\b\b\b\b\b\b\b\b\b\b\b\b\b\b\b\b\b\b\b\b\b\b\b\b\b\b\b\b\b\b\b\b\b\b\b\b\b\b\b\b\b\b\b\b\b\b\b\b\b\b\b\b\b\b\b\b\b\b\b\b\b\b\b\b\b\b\b\b\b\b\b\b\b\b\b\b\b\b\b\b\b\b\b\b\b\b\b\b\b\r  2/404 [..............................] - ETA: 16:12 - loss: 7.3500 - categorical_accuracy: 0.5000    ",
      "\b\b\b\b\b\b\b\b\b\b\b\b\b\b\b\b\b\b\b\b\b\b\b\b\b\b\b\b\b\b\b\b\b\b\b\b\b\b\b\b\b\b\b\b\b\b\b\b\b\b\b\b\b\b\b\b\b\b\b\b\b\b\b\b\b\b\b\b\b\b\b\b\b\b\b\b\b\b\b\b\b\b\b\b\b\b\b\b\b\b\b\b\b\b\b\b\b\b\b\r  3/404 [..............................] - ETA: 12:51 - loss: 10.2727 - categorical_accuracy: 0.3333",
      "\b\b\b\b\b\b\b\b\b\b\b\b\b\b\b\b\b\b\b\b\b\b\b\b\b\b\b\b\b\b\b\b\b\b\b\b\b\b\b\b\b\b\b\b\b\b\b\b\b\b\b\b\b\b\b\b\b\b\b\b\b\b\b\b\b\b\b\b\b\b\b\b\b\b\b\b\b\b\b\b\b\b\b\b\b\b\b\b\b\b\b\b\b\b\b\b\b\b\b\b\r  4/404 [..............................] - ETA: 11:11 - loss: 7.7045 - categorical_accuracy: 0.5000 ",
      "\b\b\b\b\b\b\b\b\b\b\b\b\b\b\b\b\b\b\b\b\b\b\b\b\b\b\b\b\b\b\b\b\b\b\b\b\b\b\b\b\b\b\b\b\b\b\b\b\b\b\b\b\b\b\b\b\b\b\b\b\b\b\b\b\b\b\b\b\b\b\b\b\b\b\b\b\b\b\b\b\b\b\b\b\b\b\b\b\b\b\b\b\b\b\b\b\b\b\b\r  5/404 [..............................] - ETA: 10:09 - loss: 6.1636 - categorical_accuracy: 0.6000",
      "\b\b\b\b\b\b\b\b\b\b\b\b\b\b\b\b\b\b\b\b\b\b\b\b\b\b\b\b\b\b\b\b\b\b\b\b\b\b\b\b\b\b\b\b\b\b\b\b\b\b\b\b\b\b\b\b\b\b\b\b\b\b\b\b\b\b\b\b\b\b\b\b\b\b\b\b\b\b\b\b\b\b\b\b\b\b\b\b\b\b\b\b\b\b\b\b\b\b\b\r  6/404 [..............................] - ETA: 9:30 - loss: 5.1363 - categorical_accuracy: 0.6667 ",
      "\b\b\b\b\b\b\b\b\b\b\b\b\b\b\b\b\b\b\b\b\b\b\b\b\b\b\b\b\b\b\b\b\b\b\b\b\b\b\b\b\b\b\b\b\b\b\b\b\b\b\b\b\b\b\b\b\b\b\b\b\b\b\b\b\b\b\b\b\b\b\b\b\b\b\b\b\b\b\b\b\b\b\b\b\b\b\b\b\b\b\b\b\b\b\b\b\b\b\r  7/404 [..............................] - ETA: 9:01 - loss: 4.4026 - categorical_accuracy: 0.7143",
      "\b\b\b\b\b\b\b\b\b\b\b\b\b\b\b\b\b\b\b\b\b\b\b\b\b\b\b\b\b\b\b\b\b\b\b\b\b\b\b\b\b\b\b\b\b\b\b\b\b\b\b\b\b\b\b\b\b\b\b\b\b\b\b\b\b\b\b\b\b\b\b\b\b\b\b\b\b\b\b\b\b\b\b\b\b\b\b\b\b\b\b\b\b\b\b\b\b\b\r  8/404 [..............................] - ETA: 8:39 - loss: 5.8670 - categorical_accuracy: 0.6250",
      "\b\b\b\b\b\b\b\b\b\b\b\b\b\b\b\b\b\b\b\b\b\b\b\b\b\b\b\b\b\b\b\b\b\b\b\b\b\b\b\b\b\b\b\b\b\b\b\b\b\b\b\b\b\b\b\b\b\b\b\b\b\b\b\b\b\b\b\b\b\b\b\b\b\b\b\b\b\b\b\b\b\b\b\b\b\b\b\b\b\b\b\b\b\b\b\b\b\b\r  9/404 [..............................] - ETA: 8:22 - loss: 5.2151 - categorical_accuracy: 0.6667",
      "\b\b\b\b\b\b\b\b\b\b\b\b\b\b\b\b\b\b\b\b\b\b\b\b\b\b\b\b\b\b\b\b\b\b\b\b\b\b\b\b\b\b\b\b\b\b\b\b\b\b\b\b\b\b\b\b\b\b\b\b\b\b\b\b\b\b\b\b\b\b\b\b\b\b\b\b\b\b\b\b\b\b\b\b\b\b\b\b\b\b\b\b\b\b\b\b\b\b\r 10/404 [..............................] - ETA: 8:10 - loss: 4.6936 - categorical_accuracy: 0.7000",
      "\b\b\b\b\b\b\b\b\b\b\b\b\b\b\b\b\b\b\b\b\b\b\b\b\b\b\b\b\b\b\b\b\b\b\b\b\b\b\b\b\b\b\b\b\b\b\b\b\b\b\b\b\b\b\b\b\b\b\b\b\b\b\b\b\b\b\b\b\b\b\b\b\b\b\b\b\b\b\b\b\b\b\b\b\b\b\b\b\b\b\b\b\b\b\b\b\b\b\r 11/404 [..............................] - ETA: 7:57 - loss: 4.2669 - categorical_accuracy: 0.7273",
      "\b\b\b\b\b\b\b\b\b\b\b\b\b\b\b\b\b\b\b\b\b\b\b\b\b\b\b\b\b\b\b\b\b\b\b\b\b\b\b\b\b\b\b\b\b\b\b\b\b\b\b\b\b\b\b\b\b\b\b\b\b\b\b\b\b\b\b\b\b\b\b\b\b\b\b\b\b\b\b\b\b\b\b\b\b\b\b\b\b\b\b\b\b\b\b\b\b\b\r 12/404 [..............................] - ETA: 7:48 - loss: 5.2545 - categorical_accuracy: 0.6667",
      "\b\b\b\b\b\b\b\b\b\b\b\b\b\b\b\b\b\b\b\b\b\b\b\b\b\b\b\b\b\b\b\b\b\b\b\b\b\b\b\b\b\b\b\b\b\b\b\b\b\b\b\b\b\b\b\b\b\b\b\b\b\b\b\b\b\b\b\b\b\b\b\b\b\b\b\b\b\b\b\b\b\b\b\b\b\b\b\b\b\b\b\b\b\b\b\b\b\b\r 13/404 [..............................] - ETA: 7:39 - loss: 4.8503 - categorical_accuracy: 0.6923",
      "\b\b\b\b\b\b\b\b\b\b\b\b\b\b\b\b\b\b\b\b\b\b\b\b\b\b\b\b\b\b\b\b\b\b\b\b\b\b\b\b\b\b\b\b\b\b\b\b\b\b\b\b\b\b\b\b\b\b\b\b\b\b\b\b\b\b\b\b\b\b\b\b\b\b\b\b\b\b\b\b\b\b\b\b\b\b\b\b\b\b\b\b\b\b\b\b\b\b\r 14/404 [>.............................] - ETA: 7:31 - loss: 4.5039 - categorical_accuracy: 0.7143",
      "\b\b\b\b\b\b\b\b\b\b\b\b\b\b\b\b\b\b\b\b\b\b\b\b\b\b\b\b\b\b\b\b\b\b\b\b\b\b\b\b\b\b\b\b\b\b\b\b\b\b\b\b\b\b\b\b\b\b\b\b\b\b\b\b\b\b\b\b\b\b\b\b\b\b\b\b\b\b\b\b\b\b\b\b\b\b\b\b\b\b\b\b\b\b\b\b\b\b\r 15/404 [>.............................] - ETA: 7:24 - loss: 5.2782 - categorical_accuracy: 0.6667",
      "\b\b\b\b\b\b\b\b\b\b\b\b\b\b\b\b\b\b\b\b\b\b\b\b\b\b\b\b\b\b\b\b\b\b\b\b\b\b\b\b\b\b\b\b\b\b\b\b\b\b\b\b\b\b\b\b\b\b\b\b\b\b\b\b\b\b\b\b\b\b\b\b\b\b\b\b\b\b\b\b\b\b\b\b\b\b\b\b\b\b\b\b\b\b\b\b\b\b\r 16/404 [>.............................] - ETA: 7:18 - loss: 5.9557 - categorical_accuracy: 0.6250",
      "\b\b\b\b\b\b\b\b\b\b\b\b\b\b\b\b\b\b\b\b\b\b\b\b\b\b\b\b\b\b\b\b\b\b\b\b\b\b\b\b\b\b\b\b\b\b\b\b\b\b\b\b\b\b\b\b\b\b\b\b\b\b\b\b\b\b\b\b\b\b\b\b\b\b\b\b\b\b\b\b\b\b\b\b\b\b\b\b\b\b\b\b\b\b\b\b\b\b\r 17/404 [>.............................] - ETA: 7:11 - loss: 6.5534 - categorical_accuracy: 0.5882",
      "\b\b\b\b\b\b\b\b\b\b\b\b\b\b\b\b\b\b\b\b\b\b\b\b\b\b\b\b\b\b\b\b\b\b\b\b\b\b\b\b\b\b\b\b\b\b\b\b\b\b\b\b\b\b\b\b\b\b\b\b\b\b\b\b\b\b\b\b\b\b\b\b\b\b\b\b\b\b\b\b\b\b\b\b\b\b\b\b\b\b\b\b\b\b\b\b\b\b\r 18/404 [>.............................] - ETA: 7:06 - loss: 7.0848 - categorical_accuracy: 0.5556",
      "\b\b\b\b\b\b\b\b\b\b\b\b\b\b\b\b\b\b\b\b\b\b\b\b\b\b\b\b\b\b\b\b\b\b\b\b\b\b\b\b\b\b\b\b\b\b\b\b\b\b\b\b\b\b\b\b\b\b\b\b\b\b\b\b\b\b\b\b\b\b\b\b\b\b\b\b\b\b\b\b\b\b\b\b\b\b\b\b\b\b\b\b\b\b\b\b\b\b\r 19/404 [>.............................] - ETA: 7:02 - loss: 6.7119 - categorical_accuracy: 0.5789",
      "\b\b\b\b\b\b\b\b\b\b\b\b\b\b\b\b\b\b\b\b\b\b\b\b\b\b\b\b\b\b\b\b\b\b\b\b\b\b\b\b\b\b\b\b\b\b\b\b\b\b\b\b\b\b\b\b\b\b\b\b\b\b\b\b\b\b\b\b\b\b\b\b\b\b\b\b\b\b\b\b\b\b\b\b\b\b\b\b\b\b\b\b\b\b\b\b\b\b\r 20/404 [>.............................] - ETA: 6:58 - loss: 6.3763 - categorical_accuracy: 0.6000",
      "\b\b\b\b\b\b\b\b\b\b\b\b\b\b\b\b\b\b\b\b\b\b\b\b\b\b\b\b\b\b\b\b\b\b\b\b\b\b\b\b\b\b\b\b\b\b\b\b\b\b\b\b\b\b\b\b\b\b\b\b\b\b\b\b\b\b\b\b\b\b\b\b\b\b\b\b\b\b\b\b\b\b\b\b\b\b\b\b\b\b\b\b\b\b\b\b\b\b\r 21/404 [>.............................] - ETA: 6:55 - loss: 6.0727 - categorical_accuracy: 0.6190",
      "\b\b\b\b\b\b\b\b\b\b\b\b\b\b\b\b\b\b\b\b\b\b\b\b\b\b\b\b\b\b\b\b\b\b\b\b\b\b\b\b\b\b\b\b\b\b\b\b\b\b\b\b\b\b\b\b\b\b\b\b\b\b\b\b\b\b\b\b\b\b\b\b\b\b\b\b\b\b\b\b\b\b\b\b\b\b\b\b\b\b\b\b\b\b\b\b\b\b\r 22/404 [>.............................] - ETA: 6:53 - loss: 5.7967 - categorical_accuracy: 0.6364",
      "\b\b\b\b\b\b\b\b\b\b\b\b\b\b\b\b\b\b\b\b\b\b\b\b\b\b\b\b\b\b\b\b\b\b\b\b\b\b\b\b\b\b\b\b\b\b\b\b\b\b\b\b\b\b\b\b\b\b\b\b\b\b\b\b\b\b\b\b\b\b\b\b\b\b\b\b\b\b\b\b\b\b\b\b\b\b\b\b\b\b\b\b\b\b\b\b\b\b\r 23/404 [>.............................] - ETA: 6:50 - loss: 5.5446 - categorical_accuracy: 0.6522"
     ],
     "output_type": "stream"
    },
    {
     "name": "stderr",
     "text": [
      "/home/gattma/gattma/workspaces/aktT1-click-detector/venv/lib/python3.6/site-packages/ipykernel_launcher.py:10: UserWarning: DEPRECATED: skimage.measure.compare_ssim has been moved to skimage.metrics.structural_similarity. It will be removed from skimage.measure in version 0.18.\n  # Remove the CWD from sys.path while we load stuff.\n",
      "/home/gattma/gattma/workspaces/aktT1-click-detector/venv/lib/python3.6/site-packages/ipykernel_launcher.py:10: UserWarning: DEPRECATED: skimage.measure.compare_ssim has been moved to skimage.metrics.structural_similarity. It will be removed from skimage.measure in version 0.18.\n  # Remove the CWD from sys.path while we load stuff.\n",
      "/home/gattma/gattma/workspaces/aktT1-click-detector/venv/lib/python3.6/site-packages/ipykernel_launcher.py:10: UserWarning: DEPRECATED: skimage.measure.compare_ssim has been moved to skimage.metrics.structural_similarity. It will be removed from skimage.measure in version 0.18.\n  # Remove the CWD from sys.path while we load stuff.\n",
      "/home/gattma/gattma/workspaces/aktT1-click-detector/venv/lib/python3.6/site-packages/ipykernel_launcher.py:10: UserWarning: DEPRECATED: skimage.measure.compare_ssim has been moved to skimage.metrics.structural_similarity. It will be removed from skimage.measure in version 0.18.\n  # Remove the CWD from sys.path while we load stuff.\n",
      "/home/gattma/gattma/workspaces/aktT1-click-detector/venv/lib/python3.6/site-packages/ipykernel_launcher.py:10: UserWarning: DEPRECATED: skimage.measure.compare_ssim has been moved to skimage.metrics.structural_similarity. It will be removed from skimage.measure in version 0.18.\n  # Remove the CWD from sys.path while we load stuff.\n",
      "/home/gattma/gattma/workspaces/aktT1-click-detector/venv/lib/python3.6/site-packages/ipykernel_launcher.py:10: UserWarning: DEPRECATED: skimage.measure.compare_ssim has been moved to skimage.metrics.structural_similarity. It will be removed from skimage.measure in version 0.18.\n  # Remove the CWD from sys.path while we load stuff.\n",
      "/home/gattma/gattma/workspaces/aktT1-click-detector/venv/lib/python3.6/site-packages/ipykernel_launcher.py:10: UserWarning: DEPRECATED: skimage.measure.compare_ssim has been moved to skimage.metrics.structural_similarity. It will be removed from skimage.measure in version 0.18.\n  # Remove the CWD from sys.path while we load stuff.\n",
      "/home/gattma/gattma/workspaces/aktT1-click-detector/venv/lib/python3.6/site-packages/ipykernel_launcher.py:10: UserWarning: DEPRECATED: skimage.measure.compare_ssim has been moved to skimage.metrics.structural_similarity. It will be removed from skimage.measure in version 0.18.\n  # Remove the CWD from sys.path while we load stuff.\n",
      "/home/gattma/gattma/workspaces/aktT1-click-detector/venv/lib/python3.6/site-packages/ipykernel_launcher.py:10: UserWarning: DEPRECATED: skimage.measure.compare_ssim has been moved to skimage.metrics.structural_similarity. It will be removed from skimage.measure in version 0.18.\n  # Remove the CWD from sys.path while we load stuff.\n",
      "/home/gattma/gattma/workspaces/aktT1-click-detector/venv/lib/python3.6/site-packages/ipykernel_launcher.py:10: UserWarning: DEPRECATED: skimage.measure.compare_ssim has been moved to skimage.metrics.structural_similarity. It will be removed from skimage.measure in version 0.18.\n  # Remove the CWD from sys.path while we load stuff.\n",
      "/home/gattma/gattma/workspaces/aktT1-click-detector/venv/lib/python3.6/site-packages/ipykernel_launcher.py:10: UserWarning: DEPRECATED: skimage.measure.compare_ssim has been moved to skimage.metrics.structural_similarity. It will be removed from skimage.measure in version 0.18.\n  # Remove the CWD from sys.path while we load stuff.\n",
      "/home/gattma/gattma/workspaces/aktT1-click-detector/venv/lib/python3.6/site-packages/ipykernel_launcher.py:10: UserWarning: DEPRECATED: skimage.measure.compare_ssim has been moved to skimage.metrics.structural_similarity. It will be removed from skimage.measure in version 0.18.\n  # Remove the CWD from sys.path while we load stuff.\n",
      "/home/gattma/gattma/workspaces/aktT1-click-detector/venv/lib/python3.6/site-packages/ipykernel_launcher.py:10: UserWarning: DEPRECATED: skimage.measure.compare_ssim has been moved to skimage.metrics.structural_similarity. It will be removed from skimage.measure in version 0.18.\n  # Remove the CWD from sys.path while we load stuff.\n",
      "/home/gattma/gattma/workspaces/aktT1-click-detector/venv/lib/python3.6/site-packages/ipykernel_launcher.py:10: UserWarning: DEPRECATED: skimage.measure.compare_ssim has been moved to skimage.metrics.structural_similarity. It will be removed from skimage.measure in version 0.18.\n  # Remove the CWD from sys.path while we load stuff.\n",
      "/home/gattma/gattma/workspaces/aktT1-click-detector/venv/lib/python3.6/site-packages/ipykernel_launcher.py:10: UserWarning: DEPRECATED: skimage.measure.compare_ssim has been moved to skimage.metrics.structural_similarity. It will be removed from skimage.measure in version 0.18.\n  # Remove the CWD from sys.path while we load stuff.\n",
      "/home/gattma/gattma/workspaces/aktT1-click-detector/venv/lib/python3.6/site-packages/ipykernel_launcher.py:10: UserWarning: DEPRECATED: skimage.measure.compare_ssim has been moved to skimage.metrics.structural_similarity. It will be removed from skimage.measure in version 0.18.\n  # Remove the CWD from sys.path while we load stuff.\n",
      "/home/gattma/gattma/workspaces/aktT1-click-detector/venv/lib/python3.6/site-packages/ipykernel_launcher.py:10: UserWarning: DEPRECATED: skimage.measure.compare_ssim has been moved to skimage.metrics.structural_similarity. It will be removed from skimage.measure in version 0.18.\n  # Remove the CWD from sys.path while we load stuff.\n",
      "/home/gattma/gattma/workspaces/aktT1-click-detector/venv/lib/python3.6/site-packages/ipykernel_launcher.py:10: UserWarning: DEPRECATED: skimage.measure.compare_ssim has been moved to skimage.metrics.structural_similarity. It will be removed from skimage.measure in version 0.18.\n  # Remove the CWD from sys.path while we load stuff.\n",
      "/home/gattma/gattma/workspaces/aktT1-click-detector/venv/lib/python3.6/site-packages/ipykernel_launcher.py:10: UserWarning: DEPRECATED: skimage.measure.compare_ssim has been moved to skimage.metrics.structural_similarity. It will be removed from skimage.measure in version 0.18.\n  # Remove the CWD from sys.path while we load stuff.\n",
      "/home/gattma/gattma/workspaces/aktT1-click-detector/venv/lib/python3.6/site-packages/ipykernel_launcher.py:10: UserWarning: DEPRECATED: skimage.measure.compare_ssim has been moved to skimage.metrics.structural_similarity. It will be removed from skimage.measure in version 0.18.\n  # Remove the CWD from sys.path while we load stuff.\n",
      "/home/gattma/gattma/workspaces/aktT1-click-detector/venv/lib/python3.6/site-packages/ipykernel_launcher.py:10: UserWarning: DEPRECATED: skimage.measure.compare_ssim has been moved to skimage.metrics.structural_similarity. It will be removed from skimage.measure in version 0.18.\n  # Remove the CWD from sys.path while we load stuff.\n",
      "/home/gattma/gattma/workspaces/aktT1-click-detector/venv/lib/python3.6/site-packages/ipykernel_launcher.py:10: UserWarning: DEPRECATED: skimage.measure.compare_ssim has been moved to skimage.metrics.structural_similarity. It will be removed from skimage.measure in version 0.18.\n  # Remove the CWD from sys.path while we load stuff.\n",
      "/home/gattma/gattma/workspaces/aktT1-click-detector/venv/lib/python3.6/site-packages/ipykernel_launcher.py:10: UserWarning: DEPRECATED: skimage.measure.compare_ssim has been moved to skimage.metrics.structural_similarity. It will be removed from skimage.measure in version 0.18.\n  # Remove the CWD from sys.path while we load stuff.\n"
     ],
     "output_type": "stream"
    }
   ],
   "source": [
    "# Training des Softmax-Layers\n",
    "from tensorflow.keras.callbacks import ModelCheckpoint\n",
    "\n",
    "opt = optimizers.Adam()\n",
    "# opt = optimizers.SGD(lr=0.001, decay=0.0001, momentum=0.9, nesterov=True)\n",
    "\n",
    "for layer in base_model_before.layers:\n",
    "    layer.trainable = False\n",
    "\n",
    "for layer in base_model_after.layers:\n",
    "    layer.trainable = False\n",
    "\n",
    "model.compile(loss='categorical_crossentropy', optimizer=opt, metrics=['categorical_accuracy'])\n",
    "best_weights_file = \"weights.best.hdf5\"\n",
    "checkpoint = ModelCheckpoint(best_weights_file, monitor='val_accuracy', verbose=1, save_best_only=True, mode='max')\n",
    "callbacks = [checkpoint]\n",
    "\n",
    "history = model.fit_generator(inputgenerator,\n",
    "                              steps_per_epoch=404/batch_size,\n",
    "                              epochs=epochs,\n",
    "                              validation_data=testgenerator,\n",
    "                              validation_steps=102/batch_size,\n",
    "                              #use_multiprocessing=True,\n",
    "                              shuffle=False,\n",
    "                              verbose=1,\n",
    "                              callbacks=callbacks)"
   ],
   "metadata": {
    "collapsed": false,
    "pycharm": {
     "name": "#%%\n",
     "is_executing": true
    }
   }
  },
  {
   "cell_type": "code",
   "execution_count": null,
   "outputs": [
    {
     "name": "stdout",
     "text": [
      "Found 405 images belonging to 2 classes.\nFound 405 images belonging to 2 classes.\n",
      "\r  1/404 [..............................] - ETA: 51:14 - loss: 3.9670 - categorical_accuracy: 0.0000e+00",
      "\b\b\b\b\b\b\b\b\b\b\b\b\b\b\b\b\b\b\b\b\b\b\b\b\b\b\b\b\b\b\b\b\b\b\b\b\b\b\b\b\b\b\b\b\b\b\b\b\b\b\b\b\b\b\b\b\b\b\b\b\b\b\b\b\b\b\b\b\b\b\b\b\b\b\b\b\b\b\b\b\b\b\b\b\b\b\b\b\b\b\b\b\b\b\b\b\b\b\b\b\b\b\b\r  2/404 [..............................] - ETA: 31:12 - loss: 1.9835 - categorical_accuracy: 0.5000    ",
      "\b\b\b\b\b\b\b\b\b\b\b\b\b\b\b\b\b\b\b\b\b\b\b\b\b\b\b\b\b\b\b\b\b\b\b\b\b\b\b\b\b\b\b\b\b\b\b\b\b\b\b\b\b\b\b\b\b\b\b\b\b\b\b\b\b\b\b\b\b\b\b\b\b\b\b\b\b\b\b\b\b\b\b\b\b\b\b\b\b\b\b\b\b\b\b\b\b\b\b\r  3/404 [..............................] - ETA: 24:44 - loss: 6.6950 - categorical_accuracy: 0.3333"
     ],
     "output_type": "stream"
    },
    {
     "name": "stderr",
     "text": [
      "/home/gattma/gattma/workspaces/aktT1-click-detector/venv/lib/python3.6/site-packages/ipykernel_launcher.py:10: UserWarning: DEPRECATED: skimage.measure.compare_ssim has been moved to skimage.metrics.structural_similarity. It will be removed from skimage.measure in version 0.18.\n  # Remove the CWD from sys.path while we load stuff.\n",
      "/home/gattma/gattma/workspaces/aktT1-click-detector/venv/lib/python3.6/site-packages/ipykernel_launcher.py:10: UserWarning: DEPRECATED: skimage.measure.compare_ssim has been moved to skimage.metrics.structural_similarity. It will be removed from skimage.measure in version 0.18.\n  # Remove the CWD from sys.path while we load stuff.\n",
      "/home/gattma/gattma/workspaces/aktT1-click-detector/venv/lib/python3.6/site-packages/ipykernel_launcher.py:10: UserWarning: DEPRECATED: skimage.measure.compare_ssim has been moved to skimage.metrics.structural_similarity. It will be removed from skimage.measure in version 0.18.\n  # Remove the CWD from sys.path while we load stuff.\n",
      "/home/gattma/gattma/workspaces/aktT1-click-detector/venv/lib/python3.6/site-packages/ipykernel_launcher.py:10: UserWarning: DEPRECATED: skimage.measure.compare_ssim has been moved to skimage.metrics.structural_similarity. It will be removed from skimage.measure in version 0.18.\n  # Remove the CWD from sys.path while we load stuff.\n"
     ],
     "output_type": "stream"
    }
   ],
   "source": [
    "# Training inkl. der CNN-Schichten\n",
    "for layer in base_model_before.layers:\n",
    "    layer.trainable = True\n",
    "\n",
    "for layer in base_model_after.layers:\n",
    "    layer.trainable = True\n",
    "\n",
    "model.compile(loss='categorical_crossentropy', optimizer=opt, metrics=['categorical_accuracy'])\n",
    "history = model.fit_generator(inputgenerator,\n",
    "                              steps_per_epoch=404 / batch_size,\n",
    "                              epochs=epochs,\n",
    "                              validation_data=testgenerator,\n",
    "                              validation_steps=102 / batch_size,\n",
    "                              # use_multiprocessing=True,\n",
    "                              shuffle=False,\n",
    "                              verbose=1,\n",
    "                              callbacks=callbacks)"
   ],
   "metadata": {
    "collapsed": false,
    "pycharm": {
     "name": "#%% \n",
     "is_executing": true
    }
   }
  }
 ],
 "metadata": {
  "kernelspec": {
   "display_name": "Python 3",
   "language": "python",
   "name": "python3"
  },
  "language_info": {
   "codemirror_mode": {
    "name": "ipython",
    "version": 2
   },
   "file_extension": ".py",
   "mimetype": "text/x-python",
   "name": "python",
   "nbconvert_exporter": "python",
   "pygments_lexer": "ipython2",
   "version": "2.7.6"
  },
  "pycharm": {
   "stem_cell": {
    "cell_type": "raw",
    "source": [],
    "metadata": {
     "collapsed": false
    }
   }
  }
 },
 "nbformat": 4,
 "nbformat_minor": 0
}